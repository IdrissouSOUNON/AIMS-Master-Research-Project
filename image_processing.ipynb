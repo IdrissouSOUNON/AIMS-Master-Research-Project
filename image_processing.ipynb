{
 "cells": [
  {
   "cell_type": "code",
   "execution_count": 5,
   "metadata": {},
   "outputs": [],
   "source": [
    "def move_file(label_folder: str, img_folder: str, pattern: str):\n",
    "    \n",
    "    import os, shutil, pathlib, fnmatch\n",
    "    if not os.path.isdir(img_folder):\n",
    "        pathlib.Path(img_folder).mkdir(parents=True, exist_ok=True)\n",
    "    for f in fnmatch.filter(os.listdir(label_folder), pattern):\n",
    "        shutil.move(os.path.join(label_folder, f), os.path.join(img_folder, f))"
   ]
  },
  {
   "cell_type": "code",
   "execution_count": 7,
   "metadata": {},
   "outputs": [],
   "source": [
    "move_file(\"/home/nice/ML_DL/computer_vision/darknet/TEXT/img\",\"/home/nice/ML_DL/computer_vision/darknet/TEXT/label\", \"*.txt\")"
   ]
  },
  {
   "cell_type": "code",
   "execution_count": 22,
   "metadata": {},
   "outputs": [],
   "source": [
    "def rename_folder(src:str):\n",
    "    \n",
    "    import os\n",
    "    from glob import glob\n",
    "    \n",
    "    for file in glob(\"*.txt\"):\n",
    "        new_file = file[:-4]\n",
    "        os.rename(file, new_file)"
   ]
  },
  {
   "cell_type": "code",
   "execution_count": null,
   "metadata": {},
   "outputs": [],
   "source": [
    "os.rename(\"/home/nice/ML_DL/computer_vision/darknet/test/temoin/704a92691a32ac2b.txt\")"
   ]
  },
  {
   "cell_type": "code",
   "execution_count": 23,
   "metadata": {
    "scrolled": true
   },
   "outputs": [],
   "source": [
    "rename_folder(\"/home/nice/ML_DL/computer_vision/darknet/test/temoin/\")"
   ]
  },
  {
   "cell_type": "code",
   "execution_count": null,
   "metadata": {},
   "outputs": [],
   "source": [
    "liste1 = [i for i in range(251, 370) if i not in [260, 270, 280, 290, 300, 310, 320, 330, 340, 350, 360]]\n",
    "\n",
    "liste2 = [i for i in range(2510, 2540)] + [i for i in range(2610, 2640)] + [i for i in range(2710, 2740)]+[i for i in range(2810, 2840)]+[i for i in range(2910, 2940)]+[i for i in range(3010, 3040)]+[i for i in range(3110, 3140)]+[i for i in range(3210, 3240)]+[i for i in range(3310, 3340)]+[i for i in range(3410, 3440)]+[i for i in range(3510, 3540)]+[i for i in range(3610, 3616)]\n",
    "\n",
    "liste= liste1+liste2\n",
    "liste"
   ]
  },
  {
   "cell_type": "code",
   "execution_count": null,
   "metadata": {},
   "outputs": [],
   "source": []
  },
  {
   "cell_type": "code",
   "execution_count": null,
   "metadata": {},
   "outputs": [],
   "source": [
    "move_file(\"/home/test/darknet/train/TR11\", \"/home/test/darknet/train/TR13\")"
   ]
  },
  {
   "cell_type": "code",
   "execution_count": null,
   "metadata": {},
   "outputs": [],
   "source": [
    "for i in liste:\n",
    "    src = \"/home/test/darknet/train/TR25/tr\"+str(i)\n",
    "    move_file(src, \"/home/test/darknet/train/TR13\")"
   ]
  },
  {
   "cell_type": "code",
   "execution_count": null,
   "metadata": {},
   "outputs": [],
   "source": [
    "for i in range(2,40):\n",
    "    src = \"/home/test/darknet/train/TR10/tr\"+str(i)\n",
    "    move_file(src, \"/home/test/darknet/train/TR13\")"
   ]
  },
  {
   "cell_type": "code",
   "execution_count": null,
   "metadata": {},
   "outputs": [],
   "source": [
    "for j in range(13, 25):\n",
    "    for i in range(1, 40):\n",
    "        src = \"/home/test/darknet/train/TR\"+str(j) + \"/tr\" +str(i)\n",
    "        move_file(src, \"/home/test/darknet/train/TR12\")"
   ]
  },
  {
   "cell_type": "code",
   "execution_count": null,
   "metadata": {},
   "outputs": [],
   "source": [
    "import os, shutil, pathlib, fnmatch"
   ]
  },
  {
   "cell_type": "code",
   "execution_count": null,
   "metadata": {},
   "outputs": [],
   "source": [
    "def create_subfolder(src: str, des: str, N_SUBFOLDER: int, SIZE_SUBFOLDER: int, pattern: str = '*.jpg'):\n",
    "\n",
    "    for i in range(1,N_SUBFOLDER):\n",
    "        cur_path = des+str(i)\n",
    "    #     create_subfolder(\"/home/test/darknet/test/test8\", des)\n",
    "        for f in fnmatch.filter(os.listdir(src), pattern):\n",
    "            if not os.path.isdir(cur_path):\n",
    "                pathlib.Path(cur_path).mkdir(parents=True, exist_ok=True)\n",
    "            if len(os.listdir(cur_path)) < SIZE_SUBFOLDER:\n",
    "                shutil.move(os.path.join(src, f), os.path.join(cur_path, f))"
   ]
  },
  {
   "cell_type": "code",
   "execution_count": null,
   "metadata": {},
   "outputs": [],
   "source": [
    "src = \"/home/test/darknet/TEST/T/test\"\n",
    "for j in range(1, 11):\n",
    "        des = \"/home/test/darknet/TEST/T/test/test\"+str(j)\n",
    "        create_subfolder(src, des, 7, 300)"
   ]
  },
  {
   "cell_type": "code",
   "execution_count": null,
   "metadata": {},
   "outputs": [],
   "source": [
    "for i in range(80, 180):\n",
    "    src = \"/home/test/darknet/train/TR\"+str(i)\n",
    "    for j in range(25, 100):\n",
    "        des = \"/home/test/darknet/train/TR25/tr\"+str(j)\n",
    "        create_subfolder(src, des, 40, 50)"
   ]
  },
  {
   "cell_type": "code",
   "execution_count": null,
   "metadata": {},
   "outputs": [],
   "source": [
    "for i in range(80, 180):\n",
    "    des = \"/home/test/darknet/train/TR\"+str(i)\n",
    "    create_subfolder(des, \"/home/test/darknet/train/TR21/tr\", 40, 50)"
   ]
  },
  {
   "cell_type": "code",
   "execution_count": null,
   "metadata": {},
   "outputs": [],
   "source": [
    "for i in range(80, 180):\n",
    "    des = \"/home/test/darknet/train/TR\"+str(i)\n",
    "    create_subfolder(des, \"/home/test/darknet/train/TR22/tr\", 40, 50)"
   ]
  },
  {
   "cell_type": "code",
   "execution_count": null,
   "metadata": {},
   "outputs": [],
   "source": [
    "for i in range(80, 180):\n",
    "    des = \"/home/test/darknet/train/TR\"+str(i)\n",
    "    create_subfolder(des, \"/home/test/darknet/train/TR23/tr\", 40, 50)"
   ]
  },
  {
   "cell_type": "code",
   "execution_count": null,
   "metadata": {},
   "outputs": [],
   "source": [
    "for i in range(80, 180):\n",
    "    des = \"/home/test/darknet/train/TR\"+str(i)\n",
    "    create_subfolder(des, \"/home/test/darknet/train/TR24/tr\", 40, 50)"
   ]
  },
  {
   "cell_type": "code",
   "execution_count": 1,
   "metadata": {},
   "outputs": [],
   "source": []
  },
  {
   "cell_type": "code",
   "execution_count": 11,
   "metadata": {},
   "outputs": [],
   "source": [
    "def move_label_file(label_folder:str, img_folder:str):\n",
    "    import os, shutil, pathlib, fnmatch\n",
    "    N=0\n",
    "    for file in os.listdir(img_folder):\n",
    "        img_name = file[:-3]\n",
    "        label_file = img_name+\"txt\"\n",
    "        shutil.move(os.path.join(label_folder, label_file), os.path.join(img_folder))\n",
    "        N+=1\n",
    "    print(\"There are {} images in this folder\".format(len(os.listdir(img_folder))-N))\n",
    "    print(\"There are currently {} files in this folder\".format(len(os.listdir(img_folder))))\n",
    "    print(\"{} labels copied\".format(N))"
   ]
  },
  {
   "cell_type": "code",
   "execution_count": 13,
   "metadata": {},
   "outputs": [
    {
     "name": "stdout",
     "output_type": "stream",
     "text": [
      "There are 55 images in this folder\n",
      "There are currently 110 files in this folder\n",
      "55 labels copied\n"
     ]
    }
   ],
   "source": [
    "move_label_file(\"/home/nice/ML_DL/computer_vision/darknet/TEXT/label\",\"/home/nice/ML_DL/computer_vision/darknet/TEXT/img\")"
   ]
  },
  {
   "cell_type": "code",
   "execution_count": 8,
   "metadata": {},
   "outputs": [],
   "source": [
    "import  os, fnmatch"
   ]
  },
  {
   "cell_type": "code",
   "execution_count": 10,
   "metadata": {},
   "outputs": [
    {
     "name": "stdout",
     "output_type": "stream",
     "text": [
      "1365db29dc5ec2c3.jpg\n",
      "0aef84fa71318e0b.jpg\n",
      "5485fac4e27547e9.jpg\n",
      "704a92691a32ac2b.jpg\n",
      "0b6e7cfc94b43437.jpg\n",
      "955adf8052e1eddb.jpg\n",
      "828b72887760ee8d.jpg\n",
      "0747b6f655cef42f.jpg\n",
      "739eec65560d493e.jpg\n",
      "4399a7f60ab4ed52.jpg\n",
      "710d44adfa754fdc.jpg\n",
      "0814d527d1cb3def.jpg\n",
      "847fd4cd505ebef4.jpg\n",
      "766c1f79d338d894.jpg\n"
     ]
    }
   ],
   "source": [
    "for i in fnmatch.filter(os.listdir(\"/home/nice/ML_DL/computer_vision/darknet/test\"), \"*.jpg\"):\n",
    "    print(i) "
   ]
  },
  {
   "cell_type": "code",
   "execution_count": null,
   "metadata": {},
   "outputs": [],
   "source": []
  },
  {
   "cell_type": "code",
   "execution_count": 1,
   "metadata": {},
   "outputs": [],
   "source": [
    "import glob\n",
    "test_images_list = glob.glob(\"/home/nice/ML_DL/computer_vision/darknet/TEXT/img/*.jpg\")\n",
    "with open(\"/home/nice/ML_DL/computer_vision/darknet/data/test.txt\", \"w\") as f:\n",
    "    f.write(\"\\n\".join(test_images_list))"
   ]
  },
  {
   "cell_type": "code",
   "execution_count": null,
   "metadata": {},
   "outputs": [],
   "source": []
  }
 ],
 "metadata": {
  "kernelspec": {
   "display_name": "Python 3",
   "language": "python",
   "name": "python3"
  },
  "language_info": {
   "codemirror_mode": {
    "name": "ipython",
    "version": 3
   },
   "file_extension": ".py",
   "mimetype": "text/x-python",
   "name": "python",
   "nbconvert_exporter": "python",
   "pygments_lexer": "ipython3",
   "version": "3.6.9"
  }
 },
 "nbformat": 4,
 "nbformat_minor": 4
}
